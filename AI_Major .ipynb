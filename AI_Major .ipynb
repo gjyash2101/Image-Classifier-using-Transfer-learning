{
  "nbformat": 4,
  "nbformat_minor": 0,
  "metadata": {
    "colab": {
      "name": "AI Major.ipynb",
      "provenance": [],
      "collapsed_sections": []
    },
    "kernelspec": {
      "name": "python3",
      "display_name": "Python 3"
    },
    "accelerator": "TPU"
  },
  "cells": [
    {
      "cell_type": "code",
      "metadata": {
        "colab": {
          "base_uri": "https://localhost:8080/"
        },
        "id": "vz-vYfvoUgKJ",
        "outputId": "b06135b2-ce49-4211-c79f-ead02ab6765c"
      },
      "source": [
        "!pip install ipython-autotime\r\n",
        "%load_ext autotime"
      ],
      "execution_count": 1,
      "outputs": [
        {
          "output_type": "stream",
          "text": [
            "Collecting ipython-autotime\n",
            "  Downloading https://files.pythonhosted.org/packages/d6/c5/013f5aa3b56c6d2c58634bc979773df44ab2226cf4fa787daf0bfeeea0b4/ipython_autotime-0.3.0-py2.py3-none-any.whl\n",
            "Requirement already satisfied: ipython in /usr/local/lib/python3.6/dist-packages (from ipython-autotime) (5.5.0)\n",
            "Requirement already satisfied: pickleshare in /usr/local/lib/python3.6/dist-packages (from ipython->ipython-autotime) (0.7.5)\n",
            "Requirement already satisfied: setuptools>=18.5 in /usr/local/lib/python3.6/dist-packages (from ipython->ipython-autotime) (51.1.1)\n",
            "Requirement already satisfied: prompt-toolkit<2.0.0,>=1.0.4 in /usr/local/lib/python3.6/dist-packages (from ipython->ipython-autotime) (1.0.18)\n",
            "Requirement already satisfied: traitlets>=4.2 in /usr/local/lib/python3.6/dist-packages (from ipython->ipython-autotime) (4.3.3)\n",
            "Requirement already satisfied: pexpect; sys_platform != \"win32\" in /usr/local/lib/python3.6/dist-packages (from ipython->ipython-autotime) (4.8.0)\n",
            "Requirement already satisfied: pygments in /usr/local/lib/python3.6/dist-packages (from ipython->ipython-autotime) (2.6.1)\n",
            "Requirement already satisfied: decorator in /usr/local/lib/python3.6/dist-packages (from ipython->ipython-autotime) (4.4.2)\n",
            "Requirement already satisfied: simplegeneric>0.8 in /usr/local/lib/python3.6/dist-packages (from ipython->ipython-autotime) (0.8.1)\n",
            "Requirement already satisfied: six>=1.9.0 in /usr/local/lib/python3.6/dist-packages (from prompt-toolkit<2.0.0,>=1.0.4->ipython->ipython-autotime) (1.15.0)\n",
            "Requirement already satisfied: wcwidth in /usr/local/lib/python3.6/dist-packages (from prompt-toolkit<2.0.0,>=1.0.4->ipython->ipython-autotime) (0.2.5)\n",
            "Requirement already satisfied: ipython-genutils in /usr/local/lib/python3.6/dist-packages (from traitlets>=4.2->ipython->ipython-autotime) (0.2.0)\n",
            "Requirement already satisfied: ptyprocess>=0.5 in /usr/local/lib/python3.6/dist-packages (from pexpect; sys_platform != \"win32\"->ipython->ipython-autotime) (0.7.0)\n",
            "Installing collected packages: ipython-autotime\n",
            "Successfully installed ipython-autotime-0.3.0\n",
            "time: 1.74 ms (started: 2021-01-13 12:54:42 +00:00)\n"
          ],
          "name": "stdout"
        }
      ]
    },
    {
      "cell_type": "code",
      "metadata": {
        "colab": {
          "base_uri": "https://localhost:8080/"
        },
        "id": "d7S9jTkMVvIV",
        "outputId": "83b75635-b5c0-467f-bc5c-ed8c73137452"
      },
      "source": [
        "from google.colab import drive\r\n",
        "drive.mount('/content/gdrive')"
      ],
      "execution_count": 2,
      "outputs": [
        {
          "output_type": "stream",
          "text": [
            "Mounted at /content/gdrive\n",
            "time: 26.6 s (started: 2021-01-13 12:54:42 +00:00)\n"
          ],
          "name": "stdout"
        }
      ]
    },
    {
      "cell_type": "code",
      "metadata": {
        "id": "s-U5vcH2Sso5",
        "colab": {
          "base_uri": "https://localhost:8080/"
        },
        "outputId": "49d455ca-4fa0-4995-f7b3-b2b91d0fc77f"
      },
      "source": [
        "import os\r\n",
        "os.environ['KAGGLE_CONFIG_DIR'] = \"/content/gdrive/My Drive/Kaggle\""
      ],
      "execution_count": 3,
      "outputs": [
        {
          "output_type": "stream",
          "text": [
            "time: 1.97 ms (started: 2021-01-13 12:55:09 +00:00)\n"
          ],
          "name": "stdout"
        }
      ]
    },
    {
      "cell_type": "code",
      "metadata": {
        "colab": {
          "base_uri": "https://localhost:8080/"
        },
        "id": "LwNvVOyoTuom",
        "outputId": "1ff4ee69-04b9-453e-9625-7b69ca9d6d09"
      },
      "source": [
        "%cd /content/gdrive/My Drive/Kaggle"
      ],
      "execution_count": 4,
      "outputs": [
        {
          "output_type": "stream",
          "text": [
            "/content/gdrive/My Drive/Kaggle\n",
            "time: 8.4 ms (started: 2021-01-13 12:55:09 +00:00)\n"
          ],
          "name": "stdout"
        }
      ]
    },
    {
      "cell_type": "code",
      "metadata": {
        "colab": {
          "base_uri": "https://localhost:8080/"
        },
        "id": "6ELSueGoT7LO",
        "outputId": "0c337f9d-1251-4a1b-a555-a3b9cd50d7cf"
      },
      "source": [
        "#!kaggle datasets download -d nih-chest-xrays/data\r\n",
        "#!ls"
      ],
      "execution_count": 5,
      "outputs": [
        {
          "output_type": "stream",
          "text": [
            "time: 752 µs (started: 2021-01-13 12:55:09 +00:00)\n"
          ],
          "name": "stdout"
        }
      ]
    },
    {
      "cell_type": "code",
      "metadata": {
        "id": "9s2fEFeVty3_",
        "colab": {
          "base_uri": "https://localhost:8080/",
          "height": 433
        },
        "outputId": "86d74155-caaa-4c55-8195-112a2e7c0216"
      },
      "source": [
        "import pandas as pd\r\n",
        "df = pd.read_csv('Data_Entry_2017.csv')\r\n",
        "df = df[df['Image Index'] < '00006501_000.png']\r\n",
        "df = df[df['Finding Labels'].apply(lambda x: '|' not in x)]\r\n",
        "df.reset_index(inplace=True)\r\n",
        "df.drop('index',axis=1,inplace=True)\r\n",
        "df = df.iloc[:3000,:2]\r\n",
        "df"
      ],
      "execution_count": 6,
      "outputs": [
        {
          "output_type": "execute_result",
          "data": {
            "text/html": [
              "<div>\n",
              "<style scoped>\n",
              "    .dataframe tbody tr th:only-of-type {\n",
              "        vertical-align: middle;\n",
              "    }\n",
              "\n",
              "    .dataframe tbody tr th {\n",
              "        vertical-align: top;\n",
              "    }\n",
              "\n",
              "    .dataframe thead th {\n",
              "        text-align: right;\n",
              "    }\n",
              "</style>\n",
              "<table border=\"1\" class=\"dataframe\">\n",
              "  <thead>\n",
              "    <tr style=\"text-align: right;\">\n",
              "      <th></th>\n",
              "      <th>Image Index</th>\n",
              "      <th>Finding Labels</th>\n",
              "    </tr>\n",
              "  </thead>\n",
              "  <tbody>\n",
              "    <tr>\n",
              "      <th>0</th>\n",
              "      <td>00000001_000.png</td>\n",
              "      <td>Cardiomegaly</td>\n",
              "    </tr>\n",
              "    <tr>\n",
              "      <th>1</th>\n",
              "      <td>00000002_000.png</td>\n",
              "      <td>No Finding</td>\n",
              "    </tr>\n",
              "    <tr>\n",
              "      <th>2</th>\n",
              "      <td>00000003_000.png</td>\n",
              "      <td>Hernia</td>\n",
              "    </tr>\n",
              "    <tr>\n",
              "      <th>3</th>\n",
              "      <td>00000003_001.png</td>\n",
              "      <td>Hernia</td>\n",
              "    </tr>\n",
              "    <tr>\n",
              "      <th>4</th>\n",
              "      <td>00000003_002.png</td>\n",
              "      <td>Hernia</td>\n",
              "    </tr>\n",
              "    <tr>\n",
              "      <th>...</th>\n",
              "      <td>...</td>\n",
              "      <td>...</td>\n",
              "    </tr>\n",
              "    <tr>\n",
              "      <th>2995</th>\n",
              "      <td>00000980_001.png</td>\n",
              "      <td>No Finding</td>\n",
              "    </tr>\n",
              "    <tr>\n",
              "      <th>2996</th>\n",
              "      <td>00000980_002.png</td>\n",
              "      <td>No Finding</td>\n",
              "    </tr>\n",
              "    <tr>\n",
              "      <th>2997</th>\n",
              "      <td>00000980_003.png</td>\n",
              "      <td>Infiltration</td>\n",
              "    </tr>\n",
              "    <tr>\n",
              "      <th>2998</th>\n",
              "      <td>00000980_004.png</td>\n",
              "      <td>No Finding</td>\n",
              "    </tr>\n",
              "    <tr>\n",
              "      <th>2999</th>\n",
              "      <td>00000980_005.png</td>\n",
              "      <td>No Finding</td>\n",
              "    </tr>\n",
              "  </tbody>\n",
              "</table>\n",
              "<p>3000 rows × 2 columns</p>\n",
              "</div>"
            ],
            "text/plain": [
              "           Image Index Finding Labels\n",
              "0     00000001_000.png   Cardiomegaly\n",
              "1     00000002_000.png     No Finding\n",
              "2     00000003_000.png         Hernia\n",
              "3     00000003_001.png         Hernia\n",
              "4     00000003_002.png         Hernia\n",
              "...                ...            ...\n",
              "2995  00000980_001.png     No Finding\n",
              "2996  00000980_002.png     No Finding\n",
              "2997  00000980_003.png   Infiltration\n",
              "2998  00000980_004.png     No Finding\n",
              "2999  00000980_005.png     No Finding\n",
              "\n",
              "[3000 rows x 2 columns]"
            ]
          },
          "metadata": {
            "tags": []
          },
          "execution_count": 6
        },
        {
          "output_type": "stream",
          "text": [
            "time: 642 ms (started: 2021-01-13 12:55:09 +00:00)\n"
          ],
          "name": "stdout"
        }
      ]
    },
    {
      "cell_type": "code",
      "metadata": {
        "colab": {
          "base_uri": "https://localhost:8080/",
          "height": 35
        },
        "id": "MljkYYn5ThpX",
        "outputId": "e02bbc69-4373-452d-8ce1-01629a066a4a"
      },
      "source": [
        "MAIN_DIR = '/content/gdrive/My Drive/Kaggle'\r\n",
        "temp = 'images/images main/'\r\n",
        "path = os.path.join(MAIN_DIR,temp)\r\n",
        "path"
      ],
      "execution_count": 7,
      "outputs": [
        {
          "output_type": "execute_result",
          "data": {
            "application/vnd.google.colaboratory.intrinsic+json": {
              "type": "string"
            },
            "text/plain": [
              "'/content/gdrive/My Drive/Kaggle/images/images main/'"
            ]
          },
          "metadata": {
            "tags": []
          },
          "execution_count": 7
        },
        {
          "output_type": "stream",
          "text": [
            "time: 3.86 ms (started: 2021-01-13 12:55:09 +00:00)\n"
          ],
          "name": "stdout"
        }
      ]
    },
    {
      "cell_type": "code",
      "metadata": {
        "colab": {
          "base_uri": "https://localhost:8080/"
        },
        "id": "rhS62feKFscZ",
        "outputId": "cffc724a-4335-4662-87cf-e66536ad5d37"
      },
      "source": [
        "from skimage.io import imread\r\n",
        "from skimage.transform import resize\r\n",
        "import numpy as np\r\n",
        "\r\n",
        "target = ['Atelectasis','Consolidation','Infiltration','Pneumothorax','Edema',\"Emphysema\",'Fibrosis',\r\n",
        "          'Effusion',\"Pneumonia\",\"Pleural_thickening\",'Cardiomegaly','Nodule', 'Mass','Hernia','No Finding']\r\n",
        "images = []\r\n",
        "label = []\r\n",
        "flat_data = []\r\n",
        "for i in target:\r\n",
        "  for j in df[df['Finding Labels'] == i]['Image Index']:\r\n",
        "    for img in os.listdir(path):\r\n",
        "      if img == j:\r\n",
        "        arr = imread(os.path.join(path,img))\r\n",
        "        #print(arr.shape)\r\n",
        "        arr_res = resize(arr,(224,224,3))\r\n",
        "        #print(arr_res.shape)\r\n",
        "        flat_data.append(arr_res)\r\n",
        "        images.append(img)\r\n",
        "        label.append(target.index(i))\r\n",
        "\r\n",
        "flat_data = np.array(flat_data)\r\n",
        "images = np.array(images)\r\n",
        "label = np.array(label)"
      ],
      "execution_count": 8,
      "outputs": [
        {
          "output_type": "stream",
          "text": [
            "time: 21min 14s (started: 2021-01-13 12:55:09 +00:00)\n"
          ],
          "name": "stdout"
        }
      ]
    },
    {
      "cell_type": "code",
      "metadata": {
        "colab": {
          "base_uri": "https://localhost:8080/"
        },
        "id": "cftDyVEXQAV8",
        "outputId": "84537c6b-aefe-45d8-a93c-c474911beea0"
      },
      "source": [
        "# images"
      ],
      "execution_count": 9,
      "outputs": [
        {
          "output_type": "stream",
          "text": [
            "time: 1.04 ms (started: 2021-01-13 13:16:24 +00:00)\n"
          ],
          "name": "stdout"
        }
      ]
    },
    {
      "cell_type": "code",
      "metadata": {
        "colab": {
          "base_uri": "https://localhost:8080/"
        },
        "id": "Dn4kMwWgPZ7B",
        "outputId": "f0c583ac-9365-459d-fbe4-934dd4cdc584"
      },
      "source": [
        "# len(label)"
      ],
      "execution_count": 10,
      "outputs": [
        {
          "output_type": "stream",
          "text": [
            "time: 1.71 ms (started: 2021-01-13 13:16:24 +00:00)\n"
          ],
          "name": "stdout"
        }
      ]
    },
    {
      "cell_type": "code",
      "metadata": {
        "colab": {
          "base_uri": "https://localhost:8080/"
        },
        "id": "I0JlZ7KuJR_4",
        "outputId": "0f191ca8-aaa5-43ce-bf64-f3319ade81c0"
      },
      "source": [
        "flat_data.shape"
      ],
      "execution_count": 11,
      "outputs": [
        {
          "output_type": "execute_result",
          "data": {
            "text/plain": [
              "(2955, 224, 224, 3)"
            ]
          },
          "metadata": {
            "tags": []
          },
          "execution_count": 11
        },
        {
          "output_type": "stream",
          "text": [
            "time: 3.56 ms (started: 2021-01-13 13:16:24 +00:00)\n"
          ],
          "name": "stdout"
        }
      ]
    },
    {
      "cell_type": "code",
      "metadata": {
        "colab": {
          "base_uri": "https://localhost:8080/"
        },
        "id": "gDYHpI90dwnM",
        "outputId": "89a81b54-dc44-4b2a-c4ea-d39715aa27cc"
      },
      "source": [
        "np.unique(label,return_counts=True)"
      ],
      "execution_count": 12,
      "outputs": [
        {
          "output_type": "execute_result",
          "data": {
            "text/plain": [
              "(array([ 0,  1,  2,  3,  4,  5,  6,  7,  8, 10, 11, 12, 13, 14]),\n",
              " array([ 143,   44,  296,   63,    9,   42,   74,  126,   12,   63,   78,\n",
              "          42,   16, 1947]))"
            ]
          },
          "metadata": {
            "tags": []
          },
          "execution_count": 12
        },
        {
          "output_type": "stream",
          "text": [
            "time: 4.32 ms (started: 2021-01-13 13:16:24 +00:00)\n"
          ],
          "name": "stdout"
        }
      ]
    },
    {
      "cell_type": "code",
      "metadata": {
        "colab": {
          "base_uri": "https://localhost:8080/"
        },
        "id": "nbN32_DMzVhn",
        "outputId": "0cfd261b-6fcd-4beb-8b03-e18d3f9cad6f"
      },
      "source": [
        "# from keras.preprocessing.image import ImageDataGenerator\r\n",
        "\r\n",
        "# train_datagen = ImageDataGenerator(rescale = 1./255,\r\n",
        "#                                    shear_range = 0.2,\r\n",
        "#                                    zoom_range = 0.2\r\n",
        "#                                    )\r\n",
        "\r\n",
        "# test_datagen = ImageDataGenerator(rescale = 1./255)"
      ],
      "execution_count": 13,
      "outputs": [
        {
          "output_type": "stream",
          "text": [
            "time: 1.69 ms (started: 2021-01-13 13:16:24 +00:00)\n"
          ],
          "name": "stdout"
        }
      ]
    },
    {
      "cell_type": "code",
      "metadata": {
        "colab": {
          "base_uri": "https://localhost:8080/"
        },
        "id": "s21lIm65eEpr",
        "outputId": "d1010085-c8a2-4ba0-a680-e9fc29d98824"
      },
      "source": [
        "from sklearn.model_selection import train_test_split\r\n",
        "X_train,X_test,y_train,y_test = train_test_split(flat_data,label,test_size = 0.3)"
      ],
      "execution_count": 14,
      "outputs": [
        {
          "output_type": "stream",
          "text": [
            "time: 3.64 s (started: 2021-01-13 13:16:24 +00:00)\n"
          ],
          "name": "stdout"
        }
      ]
    },
    {
      "cell_type": "code",
      "metadata": {
        "colab": {
          "base_uri": "https://localhost:8080/"
        },
        "id": "1yK6GFM2IdxF",
        "outputId": "fe83fb2e-49b0-476d-c456-1e8662405207"
      },
      "source": [
        "X_train.shape"
      ],
      "execution_count": 15,
      "outputs": [
        {
          "output_type": "execute_result",
          "data": {
            "text/plain": [
              "(2068, 224, 224, 3)"
            ]
          },
          "metadata": {
            "tags": []
          },
          "execution_count": 15
        },
        {
          "output_type": "stream",
          "text": [
            "time: 2.8 ms (started: 2021-01-13 13:16:27 +00:00)\n"
          ],
          "name": "stdout"
        }
      ]
    },
    {
      "cell_type": "code",
      "metadata": {
        "colab": {
          "base_uri": "https://localhost:8080/"
        },
        "id": "Td5jDgPxPoYL",
        "outputId": "189f4dcc-c342-437e-eb88-479e7b8b2977"
      },
      "source": [
        "y_train[0]"
      ],
      "execution_count": 16,
      "outputs": [
        {
          "output_type": "execute_result",
          "data": {
            "text/plain": [
              "14"
            ]
          },
          "metadata": {
            "tags": []
          },
          "execution_count": 16
        },
        {
          "output_type": "stream",
          "text": [
            "time: 2.63 ms (started: 2021-01-13 13:16:27 +00:00)\n"
          ],
          "name": "stdout"
        }
      ]
    },
    {
      "cell_type": "code",
      "metadata": {
        "colab": {
          "base_uri": "https://localhost:8080/"
        },
        "id": "NHevBlfSO9gF",
        "outputId": "67c29201-ffda-4649-b446-e1874a65a973"
      },
      "source": [
        "from tensorflow.keras.utils import to_categorical\r\n",
        "y_train = to_categorical(y_train,num_classes=15)\r\n",
        "y_test = to_categorical(y_test,num_classes=15)\r\n",
        "y_train[0]"
      ],
      "execution_count": 17,
      "outputs": [
        {
          "output_type": "execute_result",
          "data": {
            "text/plain": [
              "array([0., 0., 0., 0., 0., 0., 0., 0., 0., 0., 0., 0., 0., 0., 1.],\n",
              "      dtype=float32)"
            ]
          },
          "metadata": {
            "tags": []
          },
          "execution_count": 17
        },
        {
          "output_type": "stream",
          "text": [
            "time: 1.87 s (started: 2021-01-13 13:16:27 +00:00)\n"
          ],
          "name": "stdout"
        }
      ]
    },
    {
      "cell_type": "code",
      "metadata": {
        "colab": {
          "base_uri": "https://localhost:8080/"
        },
        "id": "75utSEhketww",
        "outputId": "6b457de8-48ba-4ab1-b7f9-8f6fd2f53977"
      },
      "source": [
        "import tensorflow as tf\r\n",
        "from tensorflow.keras.applications import InceptionV3\r\n",
        "incep = InceptionV3(input_shape=[224,224,3],weights='imagenet', include_top=False)"
      ],
      "execution_count": 18,
      "outputs": [
        {
          "output_type": "stream",
          "text": [
            "Downloading data from https://storage.googleapis.com/tensorflow/keras-applications/inception_v3/inception_v3_weights_tf_dim_ordering_tf_kernels_notop.h5\n",
            "87916544/87910968 [==============================] - 1s 0us/step\n",
            "time: 3.7 s (started: 2021-01-13 13:16:29 +00:00)\n"
          ],
          "name": "stdout"
        }
      ]
    },
    {
      "cell_type": "code",
      "metadata": {
        "colab": {
          "base_uri": "https://localhost:8080/"
        },
        "id": "41t1kp230dlk",
        "outputId": "f93ffcc9-5b6b-40ab-83f3-d30516cd7c09"
      },
      "source": [
        "for layer in incep.layers:\r\n",
        "  layer.trainable = False"
      ],
      "execution_count": 19,
      "outputs": [
        {
          "output_type": "stream",
          "text": [
            "time: 13.7 ms (started: 2021-01-13 13:16:33 +00:00)\n"
          ],
          "name": "stdout"
        }
      ]
    },
    {
      "cell_type": "code",
      "metadata": {
        "colab": {
          "base_uri": "https://localhost:8080/"
        },
        "id": "_GL3dPsMUUag",
        "outputId": "1e660759-812b-4e4f-e700-162c6c6f1a77"
      },
      "source": [
        "# base_model.summary()"
      ],
      "execution_count": 20,
      "outputs": [
        {
          "output_type": "stream",
          "text": [
            "time: 800 µs (started: 2021-01-13 13:16:33 +00:00)\n"
          ],
          "name": "stdout"
        }
      ]
    },
    {
      "cell_type": "code",
      "metadata": {
        "id": "LV9e3VJKgqMh",
        "colab": {
          "base_uri": "https://localhost:8080/"
        },
        "outputId": "f3b0f565-2a7f-45e7-dea5-f2e6410346c0"
      },
      "source": [
        "from keras.models import Model\r\n",
        "from tensorflow.keras import layers\r\n",
        "from keras.layers import Input, Lambda, Dense, Flatten\r\n",
        "# input_shape=(40000,)\r\n",
        "# img_input = Input(shape=input_shape)\r\n",
        "x = Flatten()(incep.output)\r\n",
        "pre = Dense(15, activation='softmax')(x)\r\n",
        "model = Model(inputs=incep.input,outputs=pre)"
      ],
      "execution_count": 21,
      "outputs": [
        {
          "output_type": "stream",
          "text": [
            "time: 101 ms (started: 2021-01-13 13:16:33 +00:00)\n"
          ],
          "name": "stdout"
        }
      ]
    },
    {
      "cell_type": "code",
      "metadata": {
        "id": "Pc9CaP_vg0E-",
        "colab": {
          "base_uri": "https://localhost:8080/"
        },
        "outputId": "056798a3-c399-47e4-8fe2-022f52591edb"
      },
      "source": [
        "# model.summary()"
      ],
      "execution_count": 22,
      "outputs": [
        {
          "output_type": "stream",
          "text": [
            "time: 795 µs (started: 2021-01-13 13:16:33 +00:00)\n"
          ],
          "name": "stdout"
        }
      ]
    },
    {
      "cell_type": "code",
      "metadata": {
        "colab": {
          "base_uri": "https://localhost:8080/"
        },
        "id": "6pKTxGVwLeYp",
        "outputId": "04a5ff55-3a3f-4043-cd2e-c95016fc65cc"
      },
      "source": [
        "model.compile(optimizer='adam',loss='categorical_crossentropy')"
      ],
      "execution_count": 23,
      "outputs": [
        {
          "output_type": "stream",
          "text": [
            "time: 31.3 ms (started: 2021-01-13 13:16:33 +00:00)\n"
          ],
          "name": "stdout"
        }
      ]
    },
    {
      "cell_type": "code",
      "metadata": {
        "colab": {
          "base_uri": "https://localhost:8080/"
        },
        "id": "sP4sVyDmRZeA",
        "outputId": "5c3658fd-fe9f-4b07-80cc-6dd825e30ee1"
      },
      "source": [
        "model.fit(X_train,y_train,epochs=10,validation_data=(X_test,y_test))"
      ],
      "execution_count": 25,
      "outputs": [
        {
          "output_type": "stream",
          "text": [
            "Epoch 1/10\n",
            "65/65 [==============================] - 265s 4s/step - loss: 8.1794 - val_loss: 4.5151\n",
            "Epoch 2/10\n",
            "65/65 [==============================] - 261s 4s/step - loss: 1.8239 - val_loss: 4.6224\n",
            "Epoch 3/10\n",
            "65/65 [==============================] - 262s 4s/step - loss: 1.0449 - val_loss: 4.2431\n",
            "Epoch 4/10\n",
            "65/65 [==============================] - 261s 4s/step - loss: 0.5287 - val_loss: 6.1686\n",
            "Epoch 5/10\n",
            "65/65 [==============================] - 261s 4s/step - loss: 0.5382 - val_loss: 4.8549\n",
            "Epoch 6/10\n",
            "65/65 [==============================] - 262s 4s/step - loss: 0.2660 - val_loss: 4.9420\n",
            "Epoch 7/10\n",
            "65/65 [==============================] - 261s 4s/step - loss: 0.4719 - val_loss: 5.2274\n",
            "Epoch 8/10\n",
            "65/65 [==============================] - 260s 4s/step - loss: 0.5336 - val_loss: 5.2395\n",
            "Epoch 9/10\n",
            "65/65 [==============================] - 262s 4s/step - loss: 0.1692 - val_loss: 5.6032\n",
            "Epoch 10/10\n",
            "65/65 [==============================] - 261s 4s/step - loss: 0.5611 - val_loss: 6.5421\n"
          ],
          "name": "stdout"
        },
        {
          "output_type": "execute_result",
          "data": {
            "text/plain": [
              "<tensorflow.python.keras.callbacks.History at 0x7fbe5363f470>"
            ]
          },
          "metadata": {
            "tags": []
          },
          "execution_count": 25
        },
        {
          "output_type": "stream",
          "text": [
            "time: 43min 37s (started: 2021-01-13 13:17:30 +00:00)\n"
          ],
          "name": "stdout"
        }
      ]
    },
    {
      "cell_type": "code",
      "metadata": {
        "colab": {
          "base_uri": "https://localhost:8080/"
        },
        "id": "bLlLxPT5PVye",
        "outputId": "e793770c-f0d1-4329-ab09-59a9d892c203"
      },
      "source": [
        "model.save('chestx_ray.h5')"
      ],
      "execution_count": 26,
      "outputs": [
        {
          "output_type": "stream",
          "text": [
            "time: 2.11 s (started: 2021-01-13 14:02:02 +00:00)\n"
          ],
          "name": "stdout"
        }
      ]
    },
    {
      "cell_type": "code",
      "metadata": {
        "colab": {
          "base_uri": "https://localhost:8080/"
        },
        "id": "76CCA97WN345",
        "outputId": "d7b605da-df8c-49e2-8984-d545f5f80de5"
      },
      "source": [
        "!pip install streamlit &> /dev/null\r\n",
        "!pip install pyngrok==4.1.1 &> /dev/null"
      ],
      "execution_count": 27,
      "outputs": [
        {
          "output_type": "stream",
          "text": [
            "time: 20.1 s (started: 2021-01-13 14:02:06 +00:00)\n"
          ],
          "name": "stdout"
        }
      ]
    },
    {
      "cell_type": "code",
      "metadata": {
        "colab": {
          "base_uri": "https://localhost:8080/"
        },
        "id": "RAeTajhSOJUn",
        "outputId": "46bb0928-a8ac-472f-d9e5-15fe49918215"
      },
      "source": [
        "%%writefile Image_Classifier.py\r\n",
        "import streamlit as st\r\n",
        "from PIL import Image\r\n",
        "from skimage.io import imread\r\n",
        "from skimage.transform import resize\r\n",
        "import tensorflow as tf\r\n",
        "import numpy as np\r\n",
        "st.title(\"Chest X_ray Classifier\")\r\n",
        "st.write(\"Upload a chest x_ray image and the model will predict the disease that person can have!\")\r\n",
        "upload = st.file_uploader(\"Choose an Image\")\r\n",
        "model = tf.keras.models.load_model('chestx_ray.h5')\r\n",
        "target = ['Atelectasis','Consolidation','Infiltration','Pneumothorax','Edema',\"Emphysema\",'Fibrosis',\r\n",
        "          'Effusion',\"Pneumonia\",\"Pleural_thickening\",'Cardiomegaly','Nodule', 'Mass','Hernia','No Finding']\r\n",
        "if upload is not None:\r\n",
        "  img = Image.open(upload)\r\n",
        "  st.image(img,caption = 'UPLOADED IMAGE',use_column_width=True)\r\n",
        "\r\n",
        "  if st.button('DETECT'):\r\n",
        "    li=[]\r\n",
        "    img = np.array(img)\r\n",
        "    ar1 = resize(img,(224,224,3))\r\n",
        "    li.append(ar1)\r\n",
        "    li = np.array(li)\r\n",
        "    y1 = model.predict(li)\r\n",
        "    st.write(\"Disease is:\")\r\n",
        "    st.title(target[y1.argmax()])"
      ],
      "execution_count": 28,
      "outputs": [
        {
          "output_type": "stream",
          "text": [
            "Overwriting Image_Classifier.py\n",
            "time: 234 ms (started: 2021-01-13 14:02:32 +00:00)\n"
          ],
          "name": "stdout"
        }
      ]
    },
    {
      "cell_type": "code",
      "metadata": {
        "colab": {
          "base_uri": "https://localhost:8080/"
        },
        "id": "37YhHNXCP4Ge",
        "outputId": "16b4b9f3-01d7-47ec-9e6e-eb828ca1c2ad"
      },
      "source": [
        "from pyngrok import ngrok\r\n",
        "!nohup streamlit run Image_Classifier.py &\r\n",
        "r_url = ngrok.connect(port='8501')\r\n",
        "print(r_url)"
      ],
      "execution_count": 29,
      "outputs": [
        {
          "output_type": "stream",
          "text": [
            "nohup: appending output to 'nohup.out'\n",
            "http://d8419880c142.ngrok.io\n",
            "time: 1.67 s (started: 2021-01-13 14:02:37 +00:00)\n"
          ],
          "name": "stdout"
        }
      ]
    },
    {
      "cell_type": "code",
      "metadata": {
        "id": "hqLRtX_V4AUM"
      },
      "source": [
        ""
      ],
      "execution_count": null,
      "outputs": []
    }
  ]
}